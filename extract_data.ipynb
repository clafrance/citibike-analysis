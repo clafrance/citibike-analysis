{
 "cells": [
  {
   "cell_type": "markdown",
   "metadata": {},
   "source": [
    "## Citibike Analysis\n",
    "\n",
    "#### Prepare data\n",
    "\n",
    "* Extract data from [Citi Bike Data](https://www.citibikenyc.com/system-data)\n",
    "* Clean data\n",
    "* Oragnize data\n",
    "* Export data for analysis"
   ]
  },
  {
   "cell_type": "code",
   "execution_count": null,
   "metadata": {},
   "outputs": [],
   "source": [
    "import pandas as pd\n",
    "import numpy as np\n",
    "from datetime import datetime\n",
    "import os\n",
    "\n",
    "from io import BytesIO\n",
    "from zipfile import ZipFile\n",
    "from urllib.request import urlopen"
   ]
  },
  {
   "cell_type": "code",
   "execution_count": null,
   "metadata": {},
   "outputs": [],
   "source": [
    "if not os.path.isdir('data'):\n",
    "    os.makedirs('data')"
   ]
  },
  {
   "cell_type": "code",
   "execution_count": null,
   "metadata": {},
   "outputs": [],
   "source": [
    "def read_from_zip_file(year, month):\n",
    "    \"\"\"Extract data from citibike, convert to Pandas DataFrame\n",
    "    \n",
    "    parameters\n",
    "    ----------\n",
    "        year: string\n",
    "        month: string\n",
    "        \n",
    "    return\n",
    "    ------\n",
    "        df: Pandas DataFrame\"\"\"\n",
    "    \n",
    "    if year == \"2016\":\n",
    "        url = f\"https://s3.amazonaws.com/tripdata/{year}{month}-citibike-tripdata.zip\"\n",
    "    else:\n",
    "        url = f\"https://s3.amazonaws.com/tripdata/{year}{month}-citibike-tripdata.csv.zip\"\n",
    "    response = urlopen(url)\n",
    "    zipfiles = ZipFile(BytesIO(response.read()))\n",
    "    file_name = zipfiles.namelist()[0]\n",
    "    file = zipfiles.open(file_name)\n",
    "    df = pd.read_csv(file, low_memory=False)\n",
    "    \n",
    "    df[\"year\"] = year\n",
    "    if month == '01':\n",
    "#         df[\"month\"] = \"Jan\"\n",
    "        df[\"month\"] = 1\n",
    "    elif month == '02':\n",
    "#         df[\"month\"] = \"Feb\"\n",
    "        df[\"month\"] = 2 \n",
    "    elif month == '03':\n",
    "#         df[\"month\"] = \"Mar\"\n",
    "        df[\"month\"] = 3\n",
    "    elif month == '04':\n",
    "#         df[\"month\"] = \"Apr\"\n",
    "        df[\"month\"] = 4 \n",
    "    elif month == '05':\n",
    "#         df[\"month\"] = \"May\"\n",
    "        df[\"month\"] = 5\n",
    "    elif month == '06':\n",
    "#         df[\"month\"] = \"Jun\"\n",
    "        df[\"month\"] = 6\n",
    "    elif month == '07':\n",
    "#         df[\"month\"] = \"Jul\"\n",
    "        df[\"month\"] = 7 \n",
    "    elif month == '08':\n",
    "#         df[\"month\"] = \"Aug\"\n",
    "        df[\"month\"] = 8\n",
    "    elif month == '09':\n",
    "#         df[\"month\"] = \"Sep\"\n",
    "        df[\"month\"] = 9\n",
    "    elif month == '10':\n",
    "#         df[\"month\"] = \"Oct\"\n",
    "        df[\"month\"] = 10\n",
    "    elif month == '11':\n",
    "#         df[\"month\"] = \"Nov\"\n",
    "        df[\"month\"] = 11\n",
    "    elif month == '12':\n",
    "#         df[\"month\"] = \"Dec\"\n",
    "        df[\"month\"] = 12\n",
    "        \n",
    "    return df"
   ]
  },
  {
   "cell_type": "code",
   "execution_count": null,
   "metadata": {},
   "outputs": [],
   "source": [
    "df_files = [\n",
    "    'df_2016_01', 'df_2016_02', 'df_2016_03', 'df_2016_04', 'df_2016_05', 'df_2016_06', \n",
    "    'df_2016_07', 'df_2016_08', 'df_2016_09', 'df_2016_10', 'df_2016_11', 'df_2016_12',\n",
    "    'df_2017_01', 'df_2017_02', 'df_2017_03', 'df_2017_04', 'df_2017_05', 'df_2017_06', \n",
    "    'df_2017_07', 'df_2017_08', 'df_2017_09', 'df_2017_10', 'df_2017_11', 'df_2017_12',\n",
    "    'df_2018_01', 'df_2018_02', 'df_2018_03', 'df_2018_04', 'df_2018_05', 'df_2018_06', \n",
    "    'df_2018_07', 'df_2018_08', 'df_2018_09', 'df_2018_10', 'df_2018_11', 'df_2018_12']"
   ]
  },
  {
   "cell_type": "markdown",
   "metadata": {},
   "source": [
    "### Extract data from from Citibike"
   ]
  },
  {
   "cell_type": "code",
   "execution_count": null,
   "metadata": {},
   "outputs": [],
   "source": [
    "print(\"Start extracting 2016 data\")\n",
    "year = \"2016\"\n",
    "for i in range(12):\n",
    "    if i == 0:\n",
    "        month = \"01\"\n",
    "        df_files[i] = read_from_zip_file(year, month)\n",
    "        print(f\"finished df_files[{i}]\")\n",
    "    elif i == 1:\n",
    "        month = \"02\"\n",
    "        df_files[i] = read_from_zip_file(year, month)\n",
    "        print(f\"finished df_files[{i}]\")\n",
    "    elif i == 2:\n",
    "        month = \"03\"\n",
    "        df_files[i] = read_from_zip_file(year, month)\n",
    "        print(f\"finished df_files[{i}]\")\n",
    "    elif i == 3:\n",
    "        month = \"04\"\n",
    "        df_files[i] = read_from_zip_file(year, month)\n",
    "        print(f\"finished df_files[{i}]\")\n",
    "    elif i == 4:\n",
    "        month = \"05\"\n",
    "        df_files[i] = read_from_zip_file(year, month)\n",
    "        print(f\"finished df_files[{i}]\")\n",
    "    elif i == 5:\n",
    "        month = \"06\"\n",
    "        df_files[i] = read_from_zip_file(year, month)\n",
    "        print(f\"finished df_files[{i}]\")\n",
    "    elif i == 6:\n",
    "        month = \"07\"\n",
    "        df_files[i] = read_from_zip_file(year, month)\n",
    "        print(f\"finished df_files[{i}]\")\n",
    "    elif i == 7:\n",
    "        month = \"08\"\n",
    "        df_files[i] = read_from_zip_file(year, month)\n",
    "        print(f\"finished df_files[{i}]\")\n",
    "    elif i == 8:\n",
    "        month = \"09\"\n",
    "        df_files[i] = read_from_zip_file(year, month)\n",
    "        print(f\"finished df_files[{i}]\")\n",
    "    elif i == 9:\n",
    "        month = \"10\"\n",
    "        df_files[i] = read_from_zip_file(year, month)\n",
    "        print(f\"finished df_files[{i}]\")\n",
    "    elif i == 10:\n",
    "        month = \"11\"\n",
    "        df_files[i] = read_from_zip_file(year, month)\n",
    "        print(f\"finished df_files[{i}]\")\n",
    "    elif i == 11:\n",
    "        month = \"12\"\n",
    "        df_files[i] = read_from_zip_file(year, month)\n",
    "        print(f\"finished df_files[{i}]\")\n",
    "print(\"Finished extract 2016 data\")"
   ]
  },
  {
   "cell_type": "code",
   "execution_count": null,
   "metadata": {},
   "outputs": [],
   "source": [
    "print(\"Start extracting 2017 data\")\n",
    "year = \"2017\"\n",
    "for i in range(12, 24):\n",
    "    if i == 12:\n",
    "        month = \"01\"\n",
    "        df_files[i]  = read_from_zip_file(year, month)\n",
    "        print(f\"finished df_files[{i}]\")\n",
    "    elif i == 13:\n",
    "        month = \"02\"\n",
    "        df_files[i]  = read_from_zip_file(year, month)\n",
    "        print(f\"finished df_files[{i}]\")\n",
    "    elif i == 14:\n",
    "        month = \"03\"\n",
    "        df_files[i]  = read_from_zip_file(year, month)\n",
    "        print(f\"finished df_files[{i}]\")\n",
    "    elif i == 15:\n",
    "        month = \"04\"\n",
    "        df_files[i]  = read_from_zip_file(year, month)\n",
    "        print(f\"finished df_files[{i}]\")\n",
    "    elif i == 16:\n",
    "        month = \"05\"\n",
    "        df_files[i]  = read_from_zip_file(year, month)\n",
    "        print(f\"finished df_files[{i}]\")\n",
    "    elif i == 17:\n",
    "        month = \"06\"\n",
    "        df_files[i]  = read_from_zip_file(year, month)\n",
    "        print(f\"finished df_files[{i}]\")\n",
    "    elif i == 18:\n",
    "        month = \"07\"\n",
    "        df_files[i]  = read_from_zip_file(year, month)\n",
    "        print(f\"finished df_files[{i}]\")\n",
    "    elif i == 19:\n",
    "        month = \"08\"\n",
    "        df_files[i]  = read_from_zip_file(year, month)\n",
    "        print(f\"finished df_files[{i}]\")\n",
    "    elif i == 20:\n",
    "        month = \"09\"\n",
    "        df_files[i]  = read_from_zip_file(year, month)\n",
    "        print(f\"finished df_files[{i}]\")\n",
    "    elif i == 21:\n",
    "        month = \"10\"\n",
    "        df_files[i]  = read_from_zip_file(year, month)\n",
    "        print(f\"finished df_files[{i}]\")\n",
    "    elif i == 22:\n",
    "        month = \"11\"\n",
    "        df_files[i]  = read_from_zip_file(year, month)\n",
    "        print(f\"finished df_files[{i}]\")\n",
    "    elif i == 23:\n",
    "        month = \"12\"\n",
    "        df_files[i]  = read_from_zip_file(year, month)\n",
    "        print(f\"finished df_files[{i}]\")\n",
    "print(\"Finished extract 2017 data\")"
   ]
  },
  {
   "cell_type": "code",
   "execution_count": null,
   "metadata": {},
   "outputs": [],
   "source": [
    "print(\"Start extracting 2018 data\")\n",
    "year = \"2018\"\n",
    "for i in range(24,36):\n",
    "    if i == 24:\n",
    "        month = \"01\"\n",
    "        df_files[i]  = read_from_zip_file(year, month)\n",
    "        print(f\"finished df_files[{i}]\")\n",
    "    elif i == 25:\n",
    "        month = \"02\"\n",
    "        df_files[i]  = read_from_zip_file(year, month)\n",
    "        print(f\"finished df_files[{i}]\")\n",
    "    elif i == 26:\n",
    "        month = \"03\"\n",
    "        df_files[i]  = read_from_zip_file(year, month)\n",
    "        print(f\"finished df_files[{i}]\")\n",
    "    elif i == 27:\n",
    "        month = \"04\"\n",
    "        df_files[i]  = read_from_zip_file(year, month)\n",
    "        print(f\"finished df_files[{i}]\")\n",
    "    elif i == 28:\n",
    "        month = \"05\"\n",
    "        df_files[i]  = read_from_zip_file(year, month)\n",
    "        print(f\"finished df_files[{i}]\")\n",
    "    elif i == 29:\n",
    "        month = \"06\"\n",
    "        df_files[i]  = read_from_zip_file(year, month)\n",
    "        print(f\"finished df_files[{i}]\")\n",
    "    elif i == 30:\n",
    "        month = \"07\"\n",
    "        df_files[i]  = read_from_zip_file(year, month)\n",
    "        print(f\"finished df_files[{i}]\")\n",
    "    elif i == 31:\n",
    "        month = \"08\"\n",
    "        df_files[i]  = read_from_zip_file(year, month)\n",
    "        print(f\"finished df_files[{i}]\")\n",
    "    elif i == 32:\n",
    "        month = \"09\"\n",
    "        df_files[i]  = read_from_zip_file(year, month)\n",
    "        print(f\"finished df_files[{i}]\")\n",
    "    elif i == 33:\n",
    "        month = \"10\"\n",
    "        df_files[i]  = read_from_zip_file(year, month)\n",
    "        print(f\"finished df_files[{i}]\")\n",
    "    elif i == 34:\n",
    "        month = \"11\"\n",
    "        df_files[i]  = read_from_zip_file(year, month)\n",
    "        print(f\"finished df_files[{i}]\")\n",
    "    elif i == 35:\n",
    "        month = \"12\"\n",
    "        df_files[i]  = read_from_zip_file(year, month)\n",
    "        print(f\"finished df_files[{i}]\")\n",
    "print(\"Finished extract 2017 data\")"
   ]
  },
  {
   "cell_type": "code",
   "execution_count": null,
   "metadata": {},
   "outputs": [],
   "source": [
    "df_files[0].head(1)"
   ]
  },
  {
   "cell_type": "code",
   "execution_count": null,
   "metadata": {},
   "outputs": [],
   "source": [
    "df_files[35].head(1)"
   ]
  },
  {
   "cell_type": "code",
   "execution_count": null,
   "metadata": {},
   "outputs": [],
   "source": [
    "df_files[9].head(1)"
   ]
  },
  {
   "cell_type": "markdown",
   "metadata": {},
   "source": [
    "### Cleaning Data"
   ]
  },
  {
   "cell_type": "markdown",
   "metadata": {},
   "source": [
    "#### Change column names to make them consistant"
   ]
  },
  {
   "cell_type": "code",
   "execution_count": null,
   "metadata": {},
   "outputs": [],
   "source": [
    "def check_col_consistance(df_files):\n",
    "    \"\"\"Check to see if the column names for the dataframes are consistant\n",
    "    \n",
    "    parameters\n",
    "    ----------\n",
    "    df_files: list\n",
    "        list of dataframes\n",
    "        \n",
    "    return\n",
    "    ------\n",
    "    df_with_diff_columns: list\n",
    "        list of the index if the dataframe with inconsistance columns\"\"\"\n",
    "    \n",
    "    file_count = len(df_files)\n",
    "    df_with_diff_columns = []\n",
    "\n",
    "    for i in range(file_count):\n",
    "        same_col = (df_files[0].columns == df_files[i].columns)\n",
    "        if ~same_col.all():\n",
    "            df_with_diff_columns.append(i)\n",
    "    return df_with_diff_columns        "
   ]
  },
  {
   "cell_type": "code",
   "execution_count": null,
   "metadata": {},
   "outputs": [],
   "source": [
    "# Change df_files column names if they are inconsistant\n",
    "df_with_diff_columns = check_col_consistance(df_files)\n",
    "if len(df_with_diff_columns) > 0:\n",
    "    c = list(df_files[0].columns)\n",
    "    for i in df_with_diff_columns:\n",
    "        C = list(df_files[i].columns)\n",
    "        df_files[i].rename(columns={C[0]: c[0], C[1]: c[1], C[2]: c[2], C[3]: c[3], C[4]: c[4], C[5]: c[5], C[6]: c[6],\n",
    "                                        C[7]: c[7], C[8]: c[8], C[9]: c[9], C[10]: c[10], C[11]: c[11], C[12]: c[12], C[13]: c[13],\n",
    "                                        C[14]: c[14], C[15]: c[15], C[16]: c[16], C[17]: c[17]},  inplace=True)\n",
    "# check_col_consistance(df_files)\n",
    "check_col_consistance(df_files)"
   ]
  },
  {
   "cell_type": "code",
   "execution_count": null,
   "metadata": {},
   "outputs": [],
   "source": [
    "# Change the starttime and endtime datetime format to make the data consistane\n",
    "file_count = len(df_files)\n",
    "for i in range(file_count):\n",
    "    df_files[i]['starttime'] = pd.to_datetime(df_files[9]['starttime'])\n",
    "    df_files[i]['stoptime'] = pd.to_datetime(df_files[9]['stoptime'])\n",
    "    # replace 0,1,2 with characters\n",
    "    df_files[i]['gender'].replace([0, 1, 2], ['Unknown', 'Male', 'Female'], inplace=True)"
   ]
  },
  {
   "cell_type": "code",
   "execution_count": null,
   "metadata": {},
   "outputs": [],
   "source": [
    "df_files[0].head()"
   ]
  },
  {
   "cell_type": "markdown",
   "metadata": {},
   "source": [
    "#### Concant the dataframes"
   ]
  },
  {
   "cell_type": "code",
   "execution_count": null,
   "metadata": {},
   "outputs": [],
   "source": [
    "df = pd.concat(df_files)\n",
    "df.info()"
   ]
  },
  {
   "cell_type": "code",
   "execution_count": null,
   "metadata": {},
   "outputs": [],
   "source": [
    "df.shape[0]"
   ]
  },
  {
   "cell_type": "markdown",
   "metadata": {},
   "source": [
    "#### Replace NaN with values"
   ]
  },
  {
   "cell_type": "code",
   "execution_count": null,
   "metadata": {},
   "outputs": [],
   "source": [
    "df.isnull().sum()"
   ]
  },
  {
   "cell_type": "code",
   "execution_count": null,
   "metadata": {},
   "outputs": [],
   "source": [
    "df.count()"
   ]
  },
  {
   "cell_type": "code",
   "execution_count": null,
   "metadata": {},
   "outputs": [],
   "source": [
    "# Replace NaN with 0 for birth year\n",
    "df[\"birth year\"].fillna(0, inplace=True)"
   ]
  },
  {
   "cell_type": "code",
   "execution_count": null,
   "metadata": {},
   "outputs": [],
   "source": [
    "# Replace NaN with 'Unknown' for usertype\n",
    "df[\"usertype\"] = df[\"usertype\"].fillna(\"Unknown\")"
   ]
  },
  {
   "cell_type": "code",
   "execution_count": null,
   "metadata": {},
   "outputs": [],
   "source": [
    "# Replace NaN with -1 for start station id, end station id\n",
    "df[\"start station id\"] = df[\"start station id\"].fillna(-1)\n",
    "df[\"end station id\"] = df[\"end station id\"].fillna(-1)"
   ]
  },
  {
   "cell_type": "code",
   "execution_count": null,
   "metadata": {},
   "outputs": [],
   "source": [
    "# Replace NaN with 'Unknown' for start station name, end station name\n",
    "df[\"start station name\"] = df[\"start station name\"].fillna(\"Unknown\")\n",
    "df[\"end station name\"] = df[\"end station name\"].fillna(\"Unknown\")"
   ]
  },
  {
   "cell_type": "code",
   "execution_count": null,
   "metadata": {},
   "outputs": [],
   "source": [
    "# Replace NaN with '1900-01-01 00:00:00' for starttime, end stoptime\n",
    "time = pd.to_datetime('1900-01-01 00:00:00')\n",
    "df[\"starttime\"] = df[\"starttime\"].fillna(time)\n",
    "df[\"stoptime\"] = df[\"stoptime\"].fillna(time)"
   ]
  },
  {
   "cell_type": "code",
   "execution_count": null,
   "metadata": {},
   "outputs": [],
   "source": [
    "df.isnull().sum()"
   ]
  },
  {
   "cell_type": "markdown",
   "metadata": {},
   "source": [
    "#### Change columns data types"
   ]
  },
  {
   "cell_type": "code",
   "execution_count": null,
   "metadata": {},
   "outputs": [],
   "source": [
    "df[\"birth year\"] = df[\"birth year\"].astype('int64')\n",
    "df[\"start station id\"] = df[\"start station id\"].astype('int64')\n",
    "df[\"end station id\"] = df[\"end station id\"].astype('int64')"
   ]
  },
  {
   "cell_type": "code",
   "execution_count": null,
   "metadata": {},
   "outputs": [],
   "source": [
    "df.head()"
   ]
  },
  {
   "cell_type": "markdown",
   "metadata": {},
   "source": [
    "#### Add a hour column"
   ]
  },
  {
   "cell_type": "code",
   "execution_count": null,
   "metadata": {},
   "outputs": [],
   "source": [
    "df['hour'] = df['starttime'].dt.hour"
   ]
  },
  {
   "cell_type": "markdown",
   "metadata": {},
   "source": [
    "### Export Data"
   ]
  },
  {
   "cell_type": "markdown",
   "metadata": {},
   "source": [
    "#### Export data which don't have station id\n",
    "* Extract rows which don't have station id \n",
    "* export them to csv file"
   ]
  },
  {
   "cell_type": "code",
   "execution_count": null,
   "metadata": {},
   "outputs": [],
   "source": [
    "# Extract data which don't have start station id and end station id\n",
    "# Comfirm that rows which have no start station id also don't have end station id\n",
    "no_start_station_id_df = df[(df['start station id'] == -1)] \n",
    "no_station_id_df = df[(df['end station id'] == -1)] \n",
    "compare = no_station_id_df == no_start_station_id_df\n",
    "compare.all().all()"
   ]
  },
  {
   "cell_type": "code",
   "execution_count": null,
   "metadata": {},
   "outputs": [],
   "source": [
    "# Write the data to csv\n",
    "no_start_station_id_df.to_csv('data/no_station_id_data.csv', index=False)"
   ]
  },
  {
   "cell_type": "code",
   "execution_count": null,
   "metadata": {},
   "outputs": [],
   "source": [
    "# # Remove no station id data from dateframe df\n",
    "# df = df[(df['start station id'] != -1)] \n",
    "# # df.to_csv('data/citibike_data.csv', index=False)\n",
    "# df.shape"
   ]
  },
  {
   "cell_type": "markdown",
   "metadata": {},
   "source": [
    "#### Export data which don't have start time\n",
    "* Extract rows which don't have start time\n",
    "* export them to csv file"
   ]
  },
  {
   "cell_type": "code",
   "execution_count": null,
   "metadata": {},
   "outputs": [],
   "source": [
    "# Verify that no_starttime rows also no_stopttime\n",
    "no_starttime = df[(df['starttime'] == '1900-01-01 00:00:00')] \n",
    "no_stopttime = df[(df['stoptime'] == '1900-01-01 00:00:00')] \n",
    "compare = no_starttime == no_stopttime\n",
    "compare.all().all()"
   ]
  },
  {
   "cell_type": "code",
   "execution_count": null,
   "metadata": {},
   "outputs": [],
   "source": [
    "no_starttime.to_csv('data/no_starttime_stoptime_data.csv', index=False)"
   ]
  },
  {
   "cell_type": "code",
   "execution_count": null,
   "metadata": {},
   "outputs": [],
   "source": [
    "# # Remove no station id data from dateframe df\n",
    "# df = df[(df['starttime'] != '1900-01-01 00:00:00')] \n",
    "# df.shape"
   ]
  },
  {
   "cell_type": "markdown",
   "metadata": {},
   "source": [
    "#### Export Start stations, end stations data"
   ]
  },
  {
   "cell_type": "code",
   "execution_count": null,
   "metadata": {},
   "outputs": [],
   "source": [
    "start_stations = df[['start station id', 'start station name', 'start station latitude', 'start station longitude']]\n",
    "end_stations = df[['end station id', 'end station name', 'end station latitude', 'end station longitude']]\n",
    "start_stations = start_stations.drop_duplicates(subset='start station id', keep=\"last\").reset_index(drop=True).sort_values(by=['start station id'])\n",
    "end_stations = end_stations.drop_duplicates(subset='end station id', keep=\"last\").reset_index(drop=True).sort_values(by=['end station id'])\n",
    "start_stations = start_stations.sort_values(by=['start station id'])\n",
    "end_stations = end_stations.sort_values(by=['end station id'])\n",
    "start_stations.to_csv('data/start_stations.csv', index=False)\n",
    "end_stations.to_csv('data/end_stations.csv', index=False)"
   ]
  },
  {
   "cell_type": "markdown",
   "metadata": {},
   "source": [
    "#### Export stations data"
   ]
  },
  {
   "cell_type": "code",
   "execution_count": null,
   "metadata": {},
   "outputs": [],
   "source": [
    "new_column_names = ['station id', 'station name', 'station latitude', 'station longitude']\n",
    "start_stations_new = start_stations.rename(columns={'start station id': new_column_names[0], \n",
    "                               'start station name': new_column_names[1], \n",
    "                               'start station latitude': new_column_names[2],\n",
    "                               'start station longitude': new_column_names[3]})\n",
    "\n",
    "end_stations_new = end_stations.rename(columns={'end station id': new_column_names[0], \n",
    "                             'end station name': new_column_names[1], \n",
    "                             'end station latitude': new_column_names[2],\n",
    "                             'end station longitude': new_column_names[3]})\n",
    "\n",
    "stations = start_stations_new.append(end_stations_new)\n",
    "stations = stations.drop_duplicates(subset='station id', keep=\"last\").reset_index(drop=True).sort_values(by=['station id'])\n",
    "stations.to_csv('data/stations.csv', index=False)"
   ]
  },
  {
   "cell_type": "markdown",
   "metadata": {},
   "source": [
    "#### Export 2018 data"
   ]
  },
  {
   "cell_type": "code",
   "execution_count": null,
   "metadata": {},
   "outputs": [],
   "source": [
    "df_2016 = df[df['year'] == '2016'] \n",
    "df_2017 = df[df['year'] == '2017'] \n",
    "df_2018 = df[df['year'] == '2018'] \n",
    "df_2018.to_csv('data/2018_data.csv', index=False)\n",
    "print(\"2018_data.csv file has been created\")"
   ]
  },
  {
   "cell_type": "markdown",
   "metadata": {},
   "source": [
    "#### Export 2016, 2017, 2018 summary data"
   ]
  },
  {
   "cell_type": "code",
   "execution_count": null,
   "metadata": {},
   "outputs": [],
   "source": [
    "group_by_month_2016 = df_2016.groupby(['month'])\n",
    "group_by_month_2017 = df_2017.groupby(['month'])\n",
    "group_by_month_2018 = df_2018.groupby(['month'])\n",
    "print(\"finished group by moth\")"
   ]
  },
  {
   "cell_type": "code",
   "execution_count": null,
   "metadata": {},
   "outputs": [],
   "source": [
    "# Get total ride count by month for 2016, 2017, 2018\n",
    "count_by_month_2016 = group_by_month_2016.count().transpose()\n",
    "count_by_month_2017 = group_by_month_2017.count().transpose()\n",
    "count_by_month_2018 = group_by_month_2018.count().transpose()\n",
    "rides_by_month_2016 = list(count_by_month_2016.loc['tripduration'])\n",
    "rides_by_month_2017 = list(count_by_month_2017.loc['tripduration'])\n",
    "rides_by_month_2018 = list(count_by_month_2018.loc['tripduration'])"
   ]
  },
  {
   "cell_type": "code",
   "execution_count": null,
   "metadata": {},
   "outputs": [],
   "source": [
    "# Get Average trip duration by month for 2016, 2017, 2018\n",
    "avg_by_month_2016 = group_by_month_2016.mean().transpose()\n",
    "avg_by_month_2017 = group_by_month_2017.mean().transpose()\n",
    "avg_by_month_2018 = group_by_month_2018.mean().transpose()\n",
    "avg_tripduration_by_month_2016 = list(avg_by_month_2016.loc['tripduration'])\n",
    "avg_tripduration_by_month_2017 = list(avg_by_month_2017.loc['tripduration'])\n",
    "avg_tripduration_by_month_2018 = list(avg_by_month_2018.loc['tripduration'])"
   ]
  },
  {
   "cell_type": "code",
   "execution_count": null,
   "metadata": {},
   "outputs": [],
   "source": [
    "# Get gender ride count by month for 2016, 2017, 2018\n",
    "def get_rides_by_gender(list_of_rides):\n",
    "    \"\"\"Return rodes count by gender for a given list\"\"\"\n",
    "    female = []\n",
    "    male = []\n",
    "    unknown = []\n",
    "    rides = list(count_by_month_gender_2018.loc['tripduration'])\n",
    "    i = 0\n",
    "    for ride in rides:\n",
    "        n = i % 3\n",
    "        if n == 0:\n",
    "            female.append(ride)\n",
    "        elif n == 1:\n",
    "            male.append(ride)\n",
    "        else:\n",
    "            unknown.append(ride)\n",
    "        i += 1\n",
    "    return {'female': female, 'male': male, 'unknown': unknown}\n",
    "\n",
    "group_by_month_gender_2016 = df_2016.groupby(['month', 'gender'])\n",
    "group_by_month_gender_2017 = df_2017.groupby(['month', 'gender'])\n",
    "group_by_month_gender_2018 = df_2018.groupby(['month', 'gender'])\n",
    "count_by_month_gender_2016 = group_by_month_gender_2016.count().transpose()\n",
    "count_by_month_gender_2017 = group_by_month_gender_2017.count().transpose()\n",
    "count_by_month_gender_2018 = group_by_month_gender_2018.count().transpose()\n",
    "rides_by_month_gender_2016_all = list(count_by_month_gender_2016.loc['tripduration'])\n",
    "rides_by_month_gender_2017_all = list(count_by_month_gender_2017.loc['tripduration'])\n",
    "rides_by_month_gender_2018_all = list(count_by_month_gender_2018.loc['tripduration'])\n",
    "rides_by_month_gender_2016 = get_rides_by_gender(rides_by_month_gender_2016_all)\n",
    "rides_by_month_gender_2017 = get_rides_by_gender(rides_by_month_gender_2017_all)\n",
    "rides_by_month_gender_2018 = get_rides_by_gender(rides_by_month_gender_2018_all)"
   ]
  },
  {
   "cell_type": "code",
   "execution_count": 167,
   "metadata": {},
   "outputs": [
    {
     "data": {
      "text/html": [
       "<div>\n",
       "<style scoped>\n",
       "    .dataframe tbody tr th:only-of-type {\n",
       "        vertical-align: middle;\n",
       "    }\n",
       "\n",
       "    .dataframe tbody tr th {\n",
       "        vertical-align: top;\n",
       "    }\n",
       "\n",
       "    .dataframe thead th {\n",
       "        text-align: right;\n",
       "    }\n",
       "</style>\n",
       "<table border=\"1\" class=\"dataframe\">\n",
       "  <thead>\n",
       "    <tr style=\"text-align: right;\">\n",
       "      <th></th>\n",
       "      <th>year</th>\n",
       "      <th>month</th>\n",
       "      <th>rides total</th>\n",
       "      <th>rides female</th>\n",
       "      <th>rides male</th>\n",
       "      <th>rides unknown</th>\n",
       "      <th>average_trip_duration</th>\n",
       "    </tr>\n",
       "  </thead>\n",
       "  <tbody>\n",
       "    <tr>\n",
       "      <th>0</th>\n",
       "      <td>2016</td>\n",
       "      <td>1</td>\n",
       "      <td>509478</td>\n",
       "      <td>151806</td>\n",
       "      <td>537589</td>\n",
       "      <td>29599</td>\n",
       "      <td>847.211931</td>\n",
       "    </tr>\n",
       "    <tr>\n",
       "      <th>1</th>\n",
       "      <td>2016</td>\n",
       "      <td>2</td>\n",
       "      <td>560874</td>\n",
       "      <td>181266</td>\n",
       "      <td>621749</td>\n",
       "      <td>40099</td>\n",
       "      <td>877.094959</td>\n",
       "    </tr>\n",
       "    <tr>\n",
       "      <th>2</th>\n",
       "      <td>2016</td>\n",
       "      <td>3</td>\n",
       "      <td>919921</td>\n",
       "      <td>212687</td>\n",
       "      <td>702533</td>\n",
       "      <td>61452</td>\n",
       "      <td>1019.789868</td>\n",
       "    </tr>\n",
       "    <tr>\n",
       "      <th>3</th>\n",
       "      <td>2016</td>\n",
       "      <td>4</td>\n",
       "      <td>1013149</td>\n",
       "      <td>293830</td>\n",
       "      <td>890184</td>\n",
       "      <td>123529</td>\n",
       "      <td>1074.349986</td>\n",
       "    </tr>\n",
       "    <tr>\n",
       "      <th>4</th>\n",
       "      <td>2016</td>\n",
       "      <td>5</td>\n",
       "      <td>1212280</td>\n",
       "      <td>421304</td>\n",
       "      <td>1203816</td>\n",
       "      <td>199590</td>\n",
       "      <td>1052.514054</td>\n",
       "    </tr>\n",
       "    <tr>\n",
       "      <th>5</th>\n",
       "      <td>2016</td>\n",
       "      <td>6</td>\n",
       "      <td>1460318</td>\n",
       "      <td>469544</td>\n",
       "      <td>1281908</td>\n",
       "      <td>201651</td>\n",
       "      <td>989.758037</td>\n",
       "    </tr>\n",
       "    <tr>\n",
       "      <th>6</th>\n",
       "      <td>2016</td>\n",
       "      <td>7</td>\n",
       "      <td>1380110</td>\n",
       "      <td>460279</td>\n",
       "      <td>1242546</td>\n",
       "      <td>210800</td>\n",
       "      <td>1000.327859</td>\n",
       "    </tr>\n",
       "    <tr>\n",
       "      <th>7</th>\n",
       "      <td>2016</td>\n",
       "      <td>8</td>\n",
       "      <td>1557663</td>\n",
       "      <td>475485</td>\n",
       "      <td>1296312</td>\n",
       "      <td>205380</td>\n",
       "      <td>980.285741</td>\n",
       "    </tr>\n",
       "    <tr>\n",
       "      <th>8</th>\n",
       "      <td>2016</td>\n",
       "      <td>9</td>\n",
       "      <td>1648856</td>\n",
       "      <td>463433</td>\n",
       "      <td>1240964</td>\n",
       "      <td>173487</td>\n",
       "      <td>947.343280</td>\n",
       "    </tr>\n",
       "    <tr>\n",
       "      <th>9</th>\n",
       "      <td>2016</td>\n",
       "      <td>10</td>\n",
       "      <td>1573872</td>\n",
       "      <td>448785</td>\n",
       "      <td>1304230</td>\n",
       "      <td>125642</td>\n",
       "      <td>925.526484</td>\n",
       "    </tr>\n",
       "    <tr>\n",
       "      <th>10</th>\n",
       "      <td>2016</td>\n",
       "      <td>11</td>\n",
       "      <td>1196942</td>\n",
       "      <td>290368</td>\n",
       "      <td>902869</td>\n",
       "      <td>67118</td>\n",
       "      <td>878.608080</td>\n",
       "    </tr>\n",
       "    <tr>\n",
       "      <th>11</th>\n",
       "      <td>2016</td>\n",
       "      <td>12</td>\n",
       "      <td>812192</td>\n",
       "      <td>223675</td>\n",
       "      <td>746622</td>\n",
       "      <td>46208</td>\n",
       "      <td>775.957297</td>\n",
       "    </tr>\n",
       "    <tr>\n",
       "      <th>12</th>\n",
       "      <td>2017</td>\n",
       "      <td>1</td>\n",
       "      <td>726676</td>\n",
       "      <td>151806</td>\n",
       "      <td>537589</td>\n",
       "      <td>29599</td>\n",
       "      <td>777.898907</td>\n",
       "    </tr>\n",
       "    <tr>\n",
       "      <th>13</th>\n",
       "      <td>2017</td>\n",
       "      <td>2</td>\n",
       "      <td>791647</td>\n",
       "      <td>181266</td>\n",
       "      <td>621749</td>\n",
       "      <td>40099</td>\n",
       "      <td>812.873783</td>\n",
       "    </tr>\n",
       "    <tr>\n",
       "      <th>14</th>\n",
       "      <td>2017</td>\n",
       "      <td>3</td>\n",
       "      <td>727665</td>\n",
       "      <td>212687</td>\n",
       "      <td>702533</td>\n",
       "      <td>61452</td>\n",
       "      <td>789.513618</td>\n",
       "    </tr>\n",
       "    <tr>\n",
       "      <th>15</th>\n",
       "      <td>2017</td>\n",
       "      <td>4</td>\n",
       "      <td>1315404</td>\n",
       "      <td>293830</td>\n",
       "      <td>890184</td>\n",
       "      <td>123529</td>\n",
       "      <td>1085.863224</td>\n",
       "    </tr>\n",
       "    <tr>\n",
       "      <th>16</th>\n",
       "      <td>2017</td>\n",
       "      <td>5</td>\n",
       "      <td>1523268</td>\n",
       "      <td>421304</td>\n",
       "      <td>1203816</td>\n",
       "      <td>199590</td>\n",
       "      <td>983.284844</td>\n",
       "    </tr>\n",
       "    <tr>\n",
       "      <th>17</th>\n",
       "      <td>2017</td>\n",
       "      <td>6</td>\n",
       "      <td>1731594</td>\n",
       "      <td>469544</td>\n",
       "      <td>1281908</td>\n",
       "      <td>201651</td>\n",
       "      <td>1072.826548</td>\n",
       "    </tr>\n",
       "    <tr>\n",
       "      <th>18</th>\n",
       "      <td>2017</td>\n",
       "      <td>7</td>\n",
       "      <td>1735599</td>\n",
       "      <td>460279</td>\n",
       "      <td>1242546</td>\n",
       "      <td>210800</td>\n",
       "      <td>1060.143360</td>\n",
       "    </tr>\n",
       "    <tr>\n",
       "      <th>19</th>\n",
       "      <td>2017</td>\n",
       "      <td>8</td>\n",
       "      <td>1816498</td>\n",
       "      <td>475485</td>\n",
       "      <td>1296312</td>\n",
       "      <td>205380</td>\n",
       "      <td>1156.787825</td>\n",
       "    </tr>\n",
       "    <tr>\n",
       "      <th>20</th>\n",
       "      <td>2017</td>\n",
       "      <td>9</td>\n",
       "      <td>1878098</td>\n",
       "      <td>463433</td>\n",
       "      <td>1240964</td>\n",
       "      <td>173487</td>\n",
       "      <td>997.088892</td>\n",
       "    </tr>\n",
       "    <tr>\n",
       "      <th>21</th>\n",
       "      <td>2017</td>\n",
       "      <td>10</td>\n",
       "      <td>1897592</td>\n",
       "      <td>448785</td>\n",
       "      <td>1304230</td>\n",
       "      <td>125642</td>\n",
       "      <td>1067.820207</td>\n",
       "    </tr>\n",
       "    <tr>\n",
       "      <th>22</th>\n",
       "      <td>2017</td>\n",
       "      <td>11</td>\n",
       "      <td>1330649</td>\n",
       "      <td>290368</td>\n",
       "      <td>902869</td>\n",
       "      <td>67118</td>\n",
       "      <td>892.714336</td>\n",
       "    </tr>\n",
       "    <tr>\n",
       "      <th>23</th>\n",
       "      <td>2017</td>\n",
       "      <td>12</td>\n",
       "      <td>889967</td>\n",
       "      <td>223675</td>\n",
       "      <td>746622</td>\n",
       "      <td>46208</td>\n",
       "      <td>764.997162</td>\n",
       "    </tr>\n",
       "    <tr>\n",
       "      <th>24</th>\n",
       "      <td>2018</td>\n",
       "      <td>1</td>\n",
       "      <td>718994</td>\n",
       "      <td>151806</td>\n",
       "      <td>537589</td>\n",
       "      <td>29599</td>\n",
       "      <td>826.810655</td>\n",
       "    </tr>\n",
       "    <tr>\n",
       "      <th>25</th>\n",
       "      <td>2018</td>\n",
       "      <td>2</td>\n",
       "      <td>843114</td>\n",
       "      <td>181266</td>\n",
       "      <td>621749</td>\n",
       "      <td>40099</td>\n",
       "      <td>877.397791</td>\n",
       "    </tr>\n",
       "    <tr>\n",
       "      <th>26</th>\n",
       "      <td>2018</td>\n",
       "      <td>3</td>\n",
       "      <td>976672</td>\n",
       "      <td>212687</td>\n",
       "      <td>702533</td>\n",
       "      <td>61452</td>\n",
       "      <td>881.993721</td>\n",
       "    </tr>\n",
       "    <tr>\n",
       "      <th>27</th>\n",
       "      <td>2018</td>\n",
       "      <td>4</td>\n",
       "      <td>1307543</td>\n",
       "      <td>293830</td>\n",
       "      <td>890184</td>\n",
       "      <td>123529</td>\n",
       "      <td>970.907322</td>\n",
       "    </tr>\n",
       "    <tr>\n",
       "      <th>28</th>\n",
       "      <td>2018</td>\n",
       "      <td>5</td>\n",
       "      <td>1824710</td>\n",
       "      <td>421304</td>\n",
       "      <td>1203816</td>\n",
       "      <td>199590</td>\n",
       "      <td>1121.914174</td>\n",
       "    </tr>\n",
       "    <tr>\n",
       "      <th>29</th>\n",
       "      <td>2018</td>\n",
       "      <td>6</td>\n",
       "      <td>1953103</td>\n",
       "      <td>469544</td>\n",
       "      <td>1281908</td>\n",
       "      <td>201651</td>\n",
       "      <td>1211.319580</td>\n",
       "    </tr>\n",
       "    <tr>\n",
       "      <th>30</th>\n",
       "      <td>2018</td>\n",
       "      <td>7</td>\n",
       "      <td>1913625</td>\n",
       "      <td>460279</td>\n",
       "      <td>1242546</td>\n",
       "      <td>210800</td>\n",
       "      <td>1074.544032</td>\n",
       "    </tr>\n",
       "    <tr>\n",
       "      <th>31</th>\n",
       "      <td>2018</td>\n",
       "      <td>8</td>\n",
       "      <td>1977177</td>\n",
       "      <td>475485</td>\n",
       "      <td>1296312</td>\n",
       "      <td>205380</td>\n",
       "      <td>1012.001330</td>\n",
       "    </tr>\n",
       "    <tr>\n",
       "      <th>32</th>\n",
       "      <td>2018</td>\n",
       "      <td>9</td>\n",
       "      <td>1877884</td>\n",
       "      <td>463433</td>\n",
       "      <td>1240964</td>\n",
       "      <td>173487</td>\n",
       "      <td>967.514919</td>\n",
       "    </tr>\n",
       "    <tr>\n",
       "      <th>33</th>\n",
       "      <td>2018</td>\n",
       "      <td>10</td>\n",
       "      <td>1878657</td>\n",
       "      <td>448785</td>\n",
       "      <td>1304230</td>\n",
       "      <td>125642</td>\n",
       "      <td>900.148279</td>\n",
       "    </tr>\n",
       "    <tr>\n",
       "      <th>34</th>\n",
       "      <td>2018</td>\n",
       "      <td>11</td>\n",
       "      <td>1260355</td>\n",
       "      <td>290368</td>\n",
       "      <td>902869</td>\n",
       "      <td>67118</td>\n",
       "      <td>849.663856</td>\n",
       "    </tr>\n",
       "    <tr>\n",
       "      <th>35</th>\n",
       "      <td>2018</td>\n",
       "      <td>12</td>\n",
       "      <td>1016505</td>\n",
       "      <td>223675</td>\n",
       "      <td>746622</td>\n",
       "      <td>46208</td>\n",
       "      <td>823.067449</td>\n",
       "    </tr>\n",
       "  </tbody>\n",
       "</table>\n",
       "</div>"
      ],
      "text/plain": [
       "    year  month  rides total   rides female  rides male  rides unknown  \\\n",
       "0   2016      1        509478        151806      537589          29599   \n",
       "1   2016      2        560874        181266      621749          40099   \n",
       "2   2016      3        919921        212687      702533          61452   \n",
       "3   2016      4       1013149        293830      890184         123529   \n",
       "4   2016      5       1212280        421304     1203816         199590   \n",
       "5   2016      6       1460318        469544     1281908         201651   \n",
       "6   2016      7       1380110        460279     1242546         210800   \n",
       "7   2016      8       1557663        475485     1296312         205380   \n",
       "8   2016      9       1648856        463433     1240964         173487   \n",
       "9   2016     10       1573872        448785     1304230         125642   \n",
       "10  2016     11       1196942        290368      902869          67118   \n",
       "11  2016     12        812192        223675      746622          46208   \n",
       "12  2017      1        726676        151806      537589          29599   \n",
       "13  2017      2        791647        181266      621749          40099   \n",
       "14  2017      3        727665        212687      702533          61452   \n",
       "15  2017      4       1315404        293830      890184         123529   \n",
       "16  2017      5       1523268        421304     1203816         199590   \n",
       "17  2017      6       1731594        469544     1281908         201651   \n",
       "18  2017      7       1735599        460279     1242546         210800   \n",
       "19  2017      8       1816498        475485     1296312         205380   \n",
       "20  2017      9       1878098        463433     1240964         173487   \n",
       "21  2017     10       1897592        448785     1304230         125642   \n",
       "22  2017     11       1330649        290368      902869          67118   \n",
       "23  2017     12        889967        223675      746622          46208   \n",
       "24  2018      1        718994        151806      537589          29599   \n",
       "25  2018      2        843114        181266      621749          40099   \n",
       "26  2018      3        976672        212687      702533          61452   \n",
       "27  2018      4       1307543        293830      890184         123529   \n",
       "28  2018      5       1824710        421304     1203816         199590   \n",
       "29  2018      6       1953103        469544     1281908         201651   \n",
       "30  2018      7       1913625        460279     1242546         210800   \n",
       "31  2018      8       1977177        475485     1296312         205380   \n",
       "32  2018      9       1877884        463433     1240964         173487   \n",
       "33  2018     10       1878657        448785     1304230         125642   \n",
       "34  2018     11       1260355        290368      902869          67118   \n",
       "35  2018     12       1016505        223675      746622          46208   \n",
       "\n",
       "    average_trip_duration  \n",
       "0              847.211931  \n",
       "1              877.094959  \n",
       "2             1019.789868  \n",
       "3             1074.349986  \n",
       "4             1052.514054  \n",
       "5              989.758037  \n",
       "6             1000.327859  \n",
       "7              980.285741  \n",
       "8              947.343280  \n",
       "9              925.526484  \n",
       "10             878.608080  \n",
       "11             775.957297  \n",
       "12             777.898907  \n",
       "13             812.873783  \n",
       "14             789.513618  \n",
       "15            1085.863224  \n",
       "16             983.284844  \n",
       "17            1072.826548  \n",
       "18            1060.143360  \n",
       "19            1156.787825  \n",
       "20             997.088892  \n",
       "21            1067.820207  \n",
       "22             892.714336  \n",
       "23             764.997162  \n",
       "24             826.810655  \n",
       "25             877.397791  \n",
       "26             881.993721  \n",
       "27             970.907322  \n",
       "28            1121.914174  \n",
       "29            1211.319580  \n",
       "30            1074.544032  \n",
       "31            1012.001330  \n",
       "32             967.514919  \n",
       "33             900.148279  \n",
       "34             849.663856  \n",
       "35             823.067449  "
      ]
     },
     "execution_count": 167,
     "metadata": {},
     "output_type": "execute_result"
    }
   ],
   "source": [
    "# create a df\n",
    "year = [str(2016 + int(i / 12)) for i in range(36)]\n",
    "month = [i % 12 + 1 for i in range(36)]\n",
    "rides_total =  rides_by_month_2016 + rides_by_month_2017 + rides_by_month_2018\n",
    "rides_female = rides_by_month_gender_2016['female'] + rides_by_month_gender_2017['female'] + rides_by_month_gender_2018['female']\n",
    "rides_male = rides_by_month_gender_2016['male'] + rides_by_month_gender_2017['male'] + rides_by_month_gender_2018['male']\n",
    "rides_unknown = rides_by_month_gender_2016['unknown'] + rides_by_month_gender_2017['unknown'] + rides_by_month_gender_2018['unknown']\n",
    "average_trip_duration = avg_tripduration_by_month_2016 + avg_tripduration_by_month_2017 + avg_tripduration_by_month_2018\n",
    "\n",
    "\n",
    "ride_summary = pd.DataFrame({\n",
    "    'year': year,\n",
    "    'month': month,\n",
    "    'rides total ': rides_total,\n",
    "    'rides female': rides_female,\n",
    "    'rides male': rides_male,\n",
    "    'rides unknown': rides_unknown,\n",
    "    'average_trip_duration': average_trip_duration\n",
    "})\n",
    "ride_summary"
   ]
  },
  {
   "cell_type": "code",
   "execution_count": 168,
   "metadata": {},
   "outputs": [],
   "source": [
    "ride_summary.to_csv('data/ride_summary.csv', index=False)"
   ]
  },
  {
   "cell_type": "code",
   "execution_count": null,
   "metadata": {},
   "outputs": [],
   "source": []
  },
  {
   "cell_type": "code",
   "execution_count": null,
   "metadata": {},
   "outputs": [],
   "source": []
  },
  {
   "cell_type": "code",
   "execution_count": null,
   "metadata": {},
   "outputs": [],
   "source": []
  },
  {
   "cell_type": "code",
   "execution_count": null,
   "metadata": {},
   "outputs": [],
   "source": []
  },
  {
   "cell_type": "code",
   "execution_count": null,
   "metadata": {},
   "outputs": [],
   "source": []
  },
  {
   "cell_type": "code",
   "execution_count": null,
   "metadata": {},
   "outputs": [],
   "source": []
  },
  {
   "cell_type": "code",
   "execution_count": null,
   "metadata": {},
   "outputs": [],
   "source": []
  },
  {
   "cell_type": "code",
   "execution_count": null,
   "metadata": {},
   "outputs": [],
   "source": []
  },
  {
   "cell_type": "code",
   "execution_count": null,
   "metadata": {},
   "outputs": [],
   "source": []
  },
  {
   "cell_type": "code",
   "execution_count": null,
   "metadata": {},
   "outputs": [],
   "source": []
  },
  {
   "cell_type": "markdown",
   "metadata": {},
   "source": [
    "### Prepare data for analysis"
   ]
  },
  {
   "cell_type": "code",
   "execution_count": null,
   "metadata": {},
   "outputs": [],
   "source": [
    "#### "
   ]
  },
  {
   "cell_type": "code",
   "execution_count": null,
   "metadata": {},
   "outputs": [],
   "source": []
  },
  {
   "cell_type": "code",
   "execution_count": null,
   "metadata": {},
   "outputs": [],
   "source": []
  },
  {
   "cell_type": "code",
   "execution_count": null,
   "metadata": {},
   "outputs": [],
   "source": []
  },
  {
   "cell_type": "code",
   "execution_count": null,
   "metadata": {},
   "outputs": [],
   "source": []
  },
  {
   "cell_type": "markdown",
   "metadata": {},
   "source": [
    "#### Explore Data"
   ]
  },
  {
   "cell_type": "code",
   "execution_count": null,
   "metadata": {},
   "outputs": [],
   "source": [
    "df.groupby(['', 'col2'])['col3'].mean()"
   ]
  },
  {
   "cell_type": "code",
   "execution_count": null,
   "metadata": {},
   "outputs": [],
   "source": []
  },
  {
   "cell_type": "code",
   "execution_count": null,
   "metadata": {},
   "outputs": [],
   "source": []
  },
  {
   "cell_type": "code",
   "execution_count": null,
   "metadata": {},
   "outputs": [],
   "source": []
  },
  {
   "cell_type": "code",
   "execution_count": null,
   "metadata": {},
   "outputs": [],
   "source": []
  },
  {
   "cell_type": "code",
   "execution_count": null,
   "metadata": {},
   "outputs": [],
   "source": []
  },
  {
   "cell_type": "code",
   "execution_count": null,
   "metadata": {},
   "outputs": [],
   "source": []
  },
  {
   "cell_type": "code",
   "execution_count": null,
   "metadata": {},
   "outputs": [],
   "source": []
  },
  {
   "cell_type": "code",
   "execution_count": null,
   "metadata": {},
   "outputs": [],
   "source": []
  },
  {
   "cell_type": "code",
   "execution_count": null,
   "metadata": {},
   "outputs": [],
   "source": []
  },
  {
   "cell_type": "markdown",
   "metadata": {},
   "source": [
    "Usertypes"
   ]
  },
  {
   "cell_type": "code",
   "execution_count": null,
   "metadata": {},
   "outputs": [],
   "source": [
    "usertypes = pd.DataFrame({'usertype_id': [0, 1, 2],\n",
    "             'usertype': ['Unknown', 'Subscriber', 'Customer']})\n",
    "usertypes.to_csv('data/usertypes.csv', index=False)"
   ]
  }
 ],
 "metadata": {
  "kernelspec": {
   "display_name": "Python 3",
   "language": "python",
   "name": "python3"
  },
  "language_info": {
   "codemirror_mode": {
    "name": "ipython",
    "version": 3
   },
   "file_extension": ".py",
   "mimetype": "text/x-python",
   "name": "python",
   "nbconvert_exporter": "python",
   "pygments_lexer": "ipython3",
   "version": "3.6.7"
  }
 },
 "nbformat": 4,
 "nbformat_minor": 2
}
